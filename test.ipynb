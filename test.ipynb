{
 "cells": [
  {
   "cell_type": "code",
   "execution_count": null,
   "metadata": {},
   "outputs": [
    {
     "name": "stdout",
     "output_type": "stream",
     "text": [
      "A new audio file was saved successfully at test.mp3\n",
      "Playing audio from test.mp3\n"
     ]
    }
   ],
   "source": [
    "\n",
    "from elevenlabs import VoiceSettings\n",
    "from elevenlabs.client import ElevenLabs\n",
    "from env import ELEVEN_LABS_API_KEY\n",
    "\n",
    "client = ElevenLabs(\n",
    "  api_key=ELEVEN_LABS_API_KEY,\n",
    ")\n",
    "\n",
    "# audio = client.text_to_speech.convert(\n",
    "#     text=\"The first move is what sets everything in motion.\",\n",
    "#     voice_id=\"JBFqnCBsd6RMkjVDRZzb\",\n",
    "#     model_id=\"eleven_multilingual_v2\",\n",
    "#     output_format=\"mp3_44100_128\",\n",
    "# )\n",
    "\n",
    "response = client.text_to_speech.convert(\n",
    "    voice_id=\"21m00Tcm4TlvDq8ikWAM\",  # Adam pre-made voice\n",
    "    optimize_streaming_latency=\"0\",\n",
    "    output_format=\"mp3_22050_32\",\n",
    "    text=text,\n",
    "    model_id=\"eleven_multilingual_v2\",  # use the turbo model for low latency, for other languages use the `eleven_multilingual_v2`\n",
    "    voice_settings=VoiceSettings(\n",
    "        stability=0.5,\n",
    "        similarity_boost=0.75,\n",
    "        style=0.15,\n",
    "        speed=0.75\n",
    "    ),\n",
    ")\n",
    "\n",
    "# Generating a unique file name for the output MP3 file\n",
    "save_file_path = f\"test.mp3\"\n",
    "# Writing the audio stream to the file\n",
    "\n",
    "with open(save_file_path, \"wb\") as f:\n",
    "    for chunk in response:\n",
    "        if chunk:\n",
    "            f.write(chunk)\n",
    "\n",
    "print(f\"A new audio file was saved successfully at {save_file_path}\")\n",
    "\n",
    "try:\n",
    "    # TODO: Implement audio playback functionality\n",
    "    # This is a placeholder for audio playback\n",
    "    \n",
    "    # Example implementation with a system call (platform dependent):\n",
    "    import subprocess\n",
    "    subprocess.call([\"afplay\", \"test.mp3\"])  # macOS\n",
    "    \n",
    "    print(f\"Playing audio from test.mp3\")\n",
    "    \n",
    "except Exception as e:\n",
    "    print(f\"Error playing audio: {str(e)}\")\n",
    "\n"
   ]
  }
 ],
 "metadata": {
  "kernelspec": {
   "display_name": "base_env",
   "language": "python",
   "name": "python3"
  },
  "language_info": {
   "codemirror_mode": {
    "name": "ipython",
    "version": 3
   },
   "file_extension": ".py",
   "mimetype": "text/x-python",
   "name": "python",
   "nbconvert_exporter": "python",
   "pygments_lexer": "ipython3",
   "version": "3.9.0"
  }
 },
 "nbformat": 4,
 "nbformat_minor": 2
}
